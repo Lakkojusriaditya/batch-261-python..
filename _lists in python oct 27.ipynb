{
 "cells": [
  {
   "cell_type": "markdown",
   "id": "bc7e79cd",
   "metadata": {},
   "source": [
    "# documentation of lists in python"
   ]
  },
  {
   "cell_type": "markdown",
   "id": "1cbfc0a7",
   "metadata": {},
   "source": [
    "# sort()\n",
    "sort method is used to sort the elements  in  to ascending order or in to descending order\n",
    "\n",
    "\n"
   ]
  },
  {
   "cell_type": "markdown",
   "id": "92b1c4e6",
   "metadata": {},
   "source": [
    "example\n",
    "here it can be sort in to ascending order or in to descending order"
   ]
  },
  {
   "cell_type": "code",
   "execution_count": 1,
   "id": "658a4e9a",
   "metadata": {},
   "outputs": [
    {
     "name": "stdout",
     "output_type": "stream",
     "text": [
      "[1, 2, 3, 4, 5]\n"
     ]
    }
   ],
   "source": [
    "num = [3,4,2,1,5]\n",
    "num.sort()\n",
    "print(num)"
   ]
  },
  {
   "cell_type": "code",
   "execution_count": 1,
   "id": "f41e3af4",
   "metadata": {},
   "outputs": [
    {
     "name": "stdout",
     "output_type": "stream",
     "text": [
      "[1, 2, 3, 4, 5]\n"
     ]
    }
   ],
   "source": [
    "my_list = [3, 1, 2, 4, 5]\n",
    "\n",
    "# Sort the list in ascending order\n",
    "my_list.sort()                                         # ascending order\n",
    "\n",
    "print(my_list)"
   ]
  },
  {
   "cell_type": "markdown",
   "id": "43ed92f5",
   "metadata": {},
   "source": [
    "# index()\n",
    "method to find the index of the first occurrence of a specific element in a list\n",
    "The index() method takes one argument, which is the element you want to find in the list, and it returns the index (position) of the first occurrence of that element. If the element is not found in the list, it raises a ValueError exception.\n"
   ]
  },
  {
   "cell_type": "markdown",
   "id": "ecc470c3",
   "metadata": {},
   "source": [
    "example"
   ]
  },
  {
   "cell_type": "code",
   "execution_count": 2,
   "id": "7a2e3506",
   "metadata": {},
   "outputs": [
    {
     "name": "stdout",
     "output_type": "stream",
     "text": [
      "2\n"
     ]
    }
   ],
   "source": [
    "num = [3,4,5,6,7,8]\n",
    "#find the index of the element 5\n",
    "index= num.index(5) \n",
    "print(index)"
   ]
  },
  {
   "cell_type": "code",
   "execution_count": 4,
   "id": "5f541753",
   "metadata": {},
   "outputs": [
    {
     "name": "stdout",
     "output_type": "stream",
     "text": [
      "1\n"
     ]
    }
   ],
   "source": [
    "actor = ('charan','ntr','balayya','nag','pk')\n",
    "index = actor.index('ntr')\n",
    "print(index)"
   ]
  },
  {
   "cell_type": "markdown",
   "id": "a3ee6820",
   "metadata": {},
   "source": [
    "# reverse()\n",
    "reverse method reverse the given string.\n",
    "syntax-\n",
    "list.reverse()\n",
    "which means it modifies the original list. Here's how you use the reverse() method:\n"
   ]
  },
  {
   "cell_type": "markdown",
   "id": "0562353a",
   "metadata": {},
   "source": [
    "example"
   ]
  },
  {
   "cell_type": "code",
   "execution_count": 5,
   "id": "04efa527",
   "metadata": {},
   "outputs": [
    {
     "name": "stdout",
     "output_type": "stream",
     "text": [
      "[5, 4, 3, 2, 1]\n"
     ]
    }
   ],
   "source": [
    "mylist=[1,2,3,4,5,]\n",
    "mylist.reverse()\n",
    "print(mylist)"
   ]
  },
  {
   "cell_type": "code",
   "execution_count": 8,
   "id": "d4165753",
   "metadata": {},
   "outputs": [
    {
     "name": "stdout",
     "output_type": "stream",
     "text": [
      "[5, 4, 3, 2, 1]\n",
      "[1, 2, 3, 4, 5]\n"
     ]
    }
   ],
   "source": [
    "my_list = [1,2,3,4,5,]\n",
    "reversed_list = my_list[::-1]\n",
    "print(reversed_list)\n",
    "print(my_list)"
   ]
  },
  {
   "cell_type": "markdown",
   "id": "49c08fc6",
   "metadata": {},
   "source": [
    "# clear()\n",
    "it clears or removes all items from list\n",
    "syntax-list.clear()"
   ]
  },
  {
   "cell_type": "markdown",
   "id": "9009ec86",
   "metadata": {},
   "source": [
    "example"
   ]
  },
  {
   "cell_type": "code",
   "execution_count": 13,
   "id": "c85e0122",
   "metadata": {},
   "outputs": [
    {
     "data": {
      "text/plain": [
       "[]"
      ]
     },
     "execution_count": 13,
     "metadata": {},
     "output_type": "execute_result"
    }
   ],
   "source": [
    "a = ['charan','ntr','balayya','nag','pk']\n",
    "a.clear()\n",
    "a"
   ]
  },
  {
   "cell_type": "markdown",
   "id": "356a0701",
   "metadata": {},
   "source": [
    "# copy()\n",
    "the copy() method returns a shallow copy of the list\n",
    "syntax\n",
    "list.copy()"
   ]
  },
  {
   "cell_type": "markdown",
   "id": "78c05549",
   "metadata": {},
   "source": [
    "example"
   ]
  },
  {
   "cell_type": "code",
   "execution_count": 14,
   "id": "3a9e5992",
   "metadata": {},
   "outputs": [
    {
     "data": {
      "text/plain": [
       "['charan', 'ntr', 'balayya', 'nag', 'pk']"
      ]
     },
     "execution_count": 14,
     "metadata": {},
     "output_type": "execute_result"
    }
   ],
   "source": [
    "a = ['charan','ntr','balayya','nag','pk']\n",
    "a.copy()\n",
    "a"
   ]
  },
  {
   "cell_type": "markdown",
   "id": "eba388e2",
   "metadata": {},
   "source": [
    "# deep copy()\n",
    "A deepcopy creates a new object and recursively adds the copies of nested object present in the original elements"
   ]
  },
  {
   "cell_type": "code",
   "execution_count": 36,
   "id": "3ea23c94",
   "metadata": {},
   "outputs": [
    {
     "name": "stdout",
     "output_type": "stream",
     "text": [
      "Old List: [[1, 2, 3], [4, 5, 6], [7, 8, 9]]\n",
      "ID of Old List: 1695461110400\n",
      "New List: [[1, 2, 3], [4, 5, 6], [7, 8, 9]]\n",
      "ID of New List: 1695461110400\n"
     ]
    }
   ],
   "source": [
    "old_list = [[1, 2, 3], [4, 5, 6], [7, 8, 'a']]\n",
    "new_list = old_list\n",
    "\n",
    "new_list[2][2] = 9\n",
    "\n",
    "print('Old List:', old_list)\n",
    "print('ID of Old List:', id(old_list))\n",
    "\n",
    "print('New List:', new_list)\n",
    "print('ID of New List:', id(new_list))"
   ]
  },
  {
   "cell_type": "markdown",
   "id": "bfc906ca",
   "metadata": {},
   "source": [
    "# shallow copy\n",
    "A shallow copy creates a new object which stores the reference of the original elements.\n",
    "\n",
    "So, a shallow copy doesn't create a copy of nested objects, instead it just copies the reference of nested objects. This means, a copy process does not recurse or create copies of nested objects itself.\n",
    "\n"
   ]
  },
  {
   "cell_type": "code",
   "execution_count": 37,
   "id": "4a7fb1fe",
   "metadata": {},
   "outputs": [
    {
     "name": "stdout",
     "output_type": "stream",
     "text": [
      "Old list: [[1, 2, 3], [4, 5, 6], [7, 8, 9]]\n",
      "New list: [[1, 2, 3], [4, 5, 6], [7, 8, 9]]\n"
     ]
    }
   ],
   "source": [
    "import copy\n",
    "\n",
    "old_list = [[1, 2, 3], [4, 5, 6], [7, 8, 9]]\n",
    "new_list = copy.copy(old_list)\n",
    "\n",
    "print(\"Old list:\", old_list)\n",
    "print(\"New list:\", new_list)"
   ]
  },
  {
   "cell_type": "markdown",
   "id": "a813dee9",
   "metadata": {},
   "source": [
    "# tuple()\n",
    "a tuple in python is similar to a list. the difference of two is that we cannot change the element of a tuple once it is assigned where as change the element of a list'"
   ]
  },
  {
   "cell_type": "code",
   "execution_count": 38,
   "id": "91d26475",
   "metadata": {},
   "outputs": [
    {
     "name": "stdout",
     "output_type": "stream",
     "text": [
      "()\n"
     ]
    }
   ],
   "source": [
    "#there are several types of tuples \n",
    "# 1) EMPTY TUPLE\n",
    "myname = ()\n",
    "print(myname)"
   ]
  },
  {
   "cell_type": "code",
   "execution_count": 40,
   "id": "04d66c5f",
   "metadata": {},
   "outputs": [
    {
     "name": "stdout",
     "output_type": "stream",
     "text": [
      "(1, 2, 3, 4)\n"
     ]
    }
   ],
   "source": [
    "# 2) TUPLE HAVING INTEGER\n",
    "mynum=(1,2,3,4)\n",
    "print(mynum)"
   ]
  },
  {
   "cell_type": "code",
   "execution_count": 41,
   "id": "ad5c2925",
   "metadata": {},
   "outputs": [
    {
     "name": "stdout",
     "output_type": "stream",
     "text": [
      "(3, 'ram', 'ramudu', 4.5)\n"
     ]
    }
   ],
   "source": [
    "#3) typle with mixed datatypes\n",
    "\n",
    "my_name = (3,'ram','ramudu',4.5)\n",
    "print(my_name)"
   ]
  },
  {
   "cell_type": "code",
   "execution_count": 42,
   "id": "b2f6bfce",
   "metadata": {},
   "outputs": [
    {
     "name": "stdout",
     "output_type": "stream",
     "text": [
      "('bunny', [2, 4, 3], (5, 3, 4))\n"
     ]
    }
   ],
   "source": [
    "# 4)nested tuple\n",
    "\n",
    "my_name = ('bunny',[2,4,3],(5,3,4))\n",
    "print(my_name)"
   ]
  },
  {
   "cell_type": "code",
   "execution_count": null,
   "id": "8feaf411",
   "metadata": {},
   "outputs": [],
   "source": []
  }
 ],
 "metadata": {
  "kernelspec": {
   "display_name": "Python 3 (ipykernel)",
   "language": "python",
   "name": "python3"
  },
  "language_info": {
   "codemirror_mode": {
    "name": "ipython",
    "version": 3
   },
   "file_extension": ".py",
   "mimetype": "text/x-python",
   "name": "python",
   "nbconvert_exporter": "python",
   "pygments_lexer": "ipython3",
   "version": "3.11.5"
  }
 },
 "nbformat": 4,
 "nbformat_minor": 5
}
